{
 "cells": [
  {
   "cell_type": "markdown",
   "id": "69f037ca-e1fc-49fa-ab7e-9f6153bc0dfa",
   "metadata": {},
   "source": [
    "# 2-PandasDataframe\n",
    "\n",
    "This notebook demonstrates how to read and process a tabular datafile with the [Pandas](https://pandas.pydata.org/) dataframe library. Pandas dataframes are limited to run on a single core and data must fit into memory.\n",
    "\n",
    "Author: Peter W. Rose (pwrose@ucsd.edu)"
   ]
  },
  {
   "cell_type": "code",
   "execution_count": 1,
   "id": "adde6518-742b-42a6-923d-9f2a1ce7ef36",
   "metadata": {},
   "outputs": [],
   "source": [
    "import os\n",
    "import pandas as pd\n",
    "import time"
   ]
  },
  {
   "cell_type": "markdown",
   "id": "e6e775e5-5010-43ab-a577-b1b1559af979",
   "metadata": {},
   "source": [
    "If LOCAL_SCRATCH_DIR environment variable is not set, this notebook accesses the ../data directory for temporary files."
   ]
  },
  {
   "cell_type": "code",
   "execution_count": 2,
   "id": "eeb2a35d-1738-4a70-81a5-471d9ce8889d",
   "metadata": {},
   "outputs": [],
   "source": [
    "DATA_DIR = os.getenv(\"LOCAL_SCRATCH_DIR\", default=\"../data\")\n",
    "filename = os.path.join(DATA_DIR, \"gene_info.tsv\")\n",
    "file_size = f\"{os.path.getsize(filename)/1E9:.1f}\"\n",
    "RESULTS_DIR = \"results\"\n",
    "os.makedirs(RESULTS_DIR, exist_ok=True)"
   ]
  },
  {
   "cell_type": "markdown",
   "id": "fedbaa0e-052f-4ec9-b719-ef9b7a1f244e",
   "metadata": {},
   "source": [
    "### Setup Benchmark"
   ]
  },
  {
   "cell_type": "markdown",
   "id": "28487825-0ba9-4a76-91ea-94f7e8996dff",
   "metadata": {
    "editable": true,
    "slideshow": {
     "slide_type": ""
    },
    "tags": []
   },
   "source": [
    "The ```file_format``` parameter is used for benchmarking different file formats. \n",
    "The cell below has been [parameterized](https://papermill.readthedocs.io/en/latest/usage-parameterize.html#jupyterlab-3-0) as input parameters for [papermill](https://papermill.readthedocs.io/en/latest/index.html)."
   ]
  },
  {
   "cell_type": "code",
   "execution_count": 3,
   "id": "c0250e3f-d660-41b7-8f71-d355f5a8af0c",
   "metadata": {
    "editable": true,
    "slideshow": {
     "slide_type": ""
    },
    "tags": [
     "parameters"
    ]
   },
   "outputs": [],
   "source": [
    "file_format = \"csv\""
   ]
  },
  {
   "cell_type": "code",
   "execution_count": 4,
   "id": "c0cf2752-5e37-4e07-a0ea-a54109c6b215",
   "metadata": {
    "editable": true,
    "slideshow": {
     "slide_type": ""
    },
    "tags": []
   },
   "outputs": [],
   "source": [
    "start = time.time()"
   ]
  },
  {
   "cell_type": "markdown",
   "id": "bccef714-4e89-45e8-8297-6daf8338fe7a",
   "metadata": {},
   "source": [
    "### Read Data"
   ]
  },
  {
   "cell_type": "code",
   "execution_count": 5,
   "id": "e1575f4b-5a6b-4fd4-8de1-837d3599015e",
   "metadata": {},
   "outputs": [
    {
     "name": "stdout",
     "output_type": "stream",
     "text": [
      "Filename: /scratch/pwrose/job_23000827/gene_info.tsv\n"
     ]
    }
   ],
   "source": [
    "# read only specified columns and rows\n",
    "column_names = [\"GeneID\", \"Symbol\", \"Synonyms\", \"description\", \"type_of_gene\", \"#tax_id\", \"chromosome\"]\n",
    "filters=[[(\"type_of_gene\", \"==\", \"protein-coding\")]]\n",
    "\n",
    "if file_format == \"csv\":\n",
    "    filename = os.path.join(DATA_DIR, \"gene_info.tsv\")\n",
    "    genes = pd.read_csv(filename, usecols=column_names, dtype=str, sep=\"\\t\")\n",
    "    genes.query(\"type_of_gene == 'protein-coding'\", inplace=True)\n",
    "elif file_format == \"parquet\":\n",
    "    filename = os.path.join(DATA_DIR, \"gene_info.parquet\")\n",
    "    genes = pd.read_parquet(filename, columns=column_names, filters=filters)\n",
    "else:\n",
    "    print(\"invalid file format\")\n",
    "    \n",
    "print(\"Filename:\", filename)\n",
    "    \n",
    "genes.rename(columns={\"#tax_id\": \"tax_id\"}, inplace=True)"
   ]
  },
  {
   "cell_type": "code",
   "execution_count": 6,
   "id": "2ccfeccc-a83a-460d-b37e-69dfae48255a",
   "metadata": {},
   "outputs": [],
   "source": [
    "# print(f\"Total memory: {genes.memory_usage(deep=True).sum()/1E9:.1f} GB\")\n",
    "# Total memory: 17.6 GB"
   ]
  },
  {
   "cell_type": "markdown",
   "id": "4740a88e-1fe3-443b-b0ab-2a8436daad85",
   "metadata": {},
   "source": [
    "### Process Data"
   ]
  },
  {
   "cell_type": "code",
   "execution_count": 7,
   "id": "b0302427-3556-43a1-8568-f98e595bdd3e",
   "metadata": {},
   "outputs": [
    {
     "data": {
      "text/html": [
       "<div>\n",
       "<style scoped>\n",
       "    .dataframe tbody tr th:only-of-type {\n",
       "        vertical-align: middle;\n",
       "    }\n",
       "\n",
       "    .dataframe tbody tr th {\n",
       "        vertical-align: top;\n",
       "    }\n",
       "\n",
       "    .dataframe thead th {\n",
       "        text-align: right;\n",
       "    }\n",
       "</style>\n",
       "<table border=\"1\" class=\"dataframe\">\n",
       "  <thead>\n",
       "    <tr style=\"text-align: right;\">\n",
       "      <th></th>\n",
       "      <th>tax_id</th>\n",
       "      <th>GeneID</th>\n",
       "      <th>Symbol</th>\n",
       "      <th>Synonyms</th>\n",
       "      <th>chromosome</th>\n",
       "      <th>description</th>\n",
       "      <th>type_of_gene</th>\n",
       "    </tr>\n",
       "  </thead>\n",
       "  <tbody>\n",
       "    <tr>\n",
       "      <th>6</th>\n",
       "      <td>24</td>\n",
       "      <td>77267466</td>\n",
       "      <td>dnaA</td>\n",
       "      <td>N5094_00005</td>\n",
       "      <td>-</td>\n",
       "      <td>chromosomal replication initiator protein DnaA</td>\n",
       "      <td>protein-coding</td>\n",
       "    </tr>\n",
       "    <tr>\n",
       "      <th>7</th>\n",
       "      <td>24</td>\n",
       "      <td>77267467</td>\n",
       "      <td>dnaN</td>\n",
       "      <td>N5094_00010</td>\n",
       "      <td>-</td>\n",
       "      <td>DNA polymerase III subunit beta</td>\n",
       "      <td>protein-coding</td>\n",
       "    </tr>\n",
       "    <tr>\n",
       "      <th>8</th>\n",
       "      <td>24</td>\n",
       "      <td>77267468</td>\n",
       "      <td>recF</td>\n",
       "      <td>N5094_00015</td>\n",
       "      <td>-</td>\n",
       "      <td>DNA replication/repair protein RecF</td>\n",
       "      <td>protein-coding</td>\n",
       "    </tr>\n",
       "    <tr>\n",
       "      <th>9</th>\n",
       "      <td>24</td>\n",
       "      <td>77267469</td>\n",
       "      <td>gyrB</td>\n",
       "      <td>N5094_00020</td>\n",
       "      <td>-</td>\n",
       "      <td>DNA topoisomerase (ATP-hydrolyzing) subunit B</td>\n",
       "      <td>protein-coding</td>\n",
       "    </tr>\n",
       "    <tr>\n",
       "      <th>10</th>\n",
       "      <td>24</td>\n",
       "      <td>77267470</td>\n",
       "      <td>N5094_RS00025</td>\n",
       "      <td>N5094_00025</td>\n",
       "      <td>-</td>\n",
       "      <td>HDOD domain-containing protein</td>\n",
       "      <td>protein-coding</td>\n",
       "    </tr>\n",
       "  </tbody>\n",
       "</table>\n",
       "</div>"
      ],
      "text/plain": [
       "   tax_id    GeneID         Symbol     Synonyms chromosome  \\\n",
       "6      24  77267466           dnaA  N5094_00005          -   \n",
       "7      24  77267467           dnaN  N5094_00010          -   \n",
       "8      24  77267468           recF  N5094_00015          -   \n",
       "9      24  77267469           gyrB  N5094_00020          -   \n",
       "10     24  77267470  N5094_RS00025  N5094_00025          -   \n",
       "\n",
       "                                       description    type_of_gene  \n",
       "6   chromosomal replication initiator protein DnaA  protein-coding  \n",
       "7                  DNA polymerase III subunit beta  protein-coding  \n",
       "8              DNA replication/repair protein RecF  protein-coding  \n",
       "9    DNA topoisomerase (ATP-hydrolyzing) subunit B  protein-coding  \n",
       "10                  HDOD domain-containing protein  protein-coding  "
      ]
     },
     "execution_count": 7,
     "metadata": {},
     "output_type": "execute_result"
    }
   ],
   "source": [
    "genes.head()"
   ]
  },
  {
   "cell_type": "code",
   "execution_count": 8,
   "id": "9ec6b6f3-f727-475f-8deb-798100932556",
   "metadata": {},
   "outputs": [],
   "source": [
    "groups = genes.groupby([\"tax_id\"]).size().reset_index(name=\"count\")\n",
    "groups = groups.sort_values(\"count\", ascending=False)"
   ]
  },
  {
   "cell_type": "markdown",
   "id": "ef6899d2-87f5-460d-abdc-cb0449c39298",
   "metadata": {},
   "source": [
    "### Display Results"
   ]
  },
  {
   "cell_type": "markdown",
   "id": "5ff1558c-e161-4e24-aaa6-93b4a990812f",
   "metadata": {},
   "source": [
    "#### Number of human protein-coding genes (tax_id = 9606)"
   ]
  },
  {
   "cell_type": "code",
   "execution_count": 9,
   "id": "d5745f4a-242b-4b74-b423-9a7de1de9e78",
   "metadata": {},
   "outputs": [
    {
     "data": {
      "text/html": [
       "<div>\n",
       "<style scoped>\n",
       "    .dataframe tbody tr th:only-of-type {\n",
       "        vertical-align: middle;\n",
       "    }\n",
       "\n",
       "    .dataframe tbody tr th {\n",
       "        vertical-align: top;\n",
       "    }\n",
       "\n",
       "    .dataframe thead th {\n",
       "        text-align: right;\n",
       "    }\n",
       "</style>\n",
       "<table border=\"1\" class=\"dataframe\">\n",
       "  <thead>\n",
       "    <tr style=\"text-align: right;\">\n",
       "      <th></th>\n",
       "      <th>tax_id</th>\n",
       "      <th>count</th>\n",
       "    </tr>\n",
       "  </thead>\n",
       "  <tbody>\n",
       "    <tr>\n",
       "      <th>44294</th>\n",
       "      <td>9606</td>\n",
       "      <td>20646</td>\n",
       "    </tr>\n",
       "  </tbody>\n",
       "</table>\n",
       "</div>"
      ],
      "text/plain": [
       "      tax_id  count\n",
       "44294   9606  20646"
      ]
     },
     "execution_count": 9,
     "metadata": {},
     "output_type": "execute_result"
    }
   ],
   "source": [
    "groups.query(\"tax_id == '9606'\")"
   ]
  },
  {
   "cell_type": "markdown",
   "id": "3842252d-2d7b-4065-bb38-9eaa79e7b112",
   "metadata": {},
   "source": [
    "#### Top 5 organisms with the most protein-coding genes"
   ]
  },
  {
   "cell_type": "code",
   "execution_count": 10,
   "id": "afd038df-7f1d-4ac9-8cb3-459fea72ed27",
   "metadata": {},
   "outputs": [
    {
     "data": {
      "text/html": [
       "<div>\n",
       "<style scoped>\n",
       "    .dataframe tbody tr th:only-of-type {\n",
       "        vertical-align: middle;\n",
       "    }\n",
       "\n",
       "    .dataframe tbody tr th {\n",
       "        vertical-align: top;\n",
       "    }\n",
       "\n",
       "    .dataframe thead th {\n",
       "        text-align: right;\n",
       "    }\n",
       "</style>\n",
       "<table border=\"1\" class=\"dataframe\">\n",
       "  <thead>\n",
       "    <tr style=\"text-align: right;\">\n",
       "      <th></th>\n",
       "      <th>tax_id</th>\n",
       "      <th>count</th>\n",
       "    </tr>\n",
       "  </thead>\n",
       "  <tbody>\n",
       "    <tr>\n",
       "      <th>34960</th>\n",
       "      <td>4565</td>\n",
       "      <td>104039</td>\n",
       "    </tr>\n",
       "    <tr>\n",
       "      <th>32220</th>\n",
       "      <td>3708</td>\n",
       "      <td>90975</td>\n",
       "    </tr>\n",
       "    <tr>\n",
       "      <th>43536</th>\n",
       "      <td>90675</td>\n",
       "      <td>82686</td>\n",
       "    </tr>\n",
       "    <tr>\n",
       "      <th>33610</th>\n",
       "      <td>412133</td>\n",
       "      <td>72290</td>\n",
       "    </tr>\n",
       "    <tr>\n",
       "      <th>44095</th>\n",
       "      <td>94328</td>\n",
       "      <td>68154</td>\n",
       "    </tr>\n",
       "  </tbody>\n",
       "</table>\n",
       "</div>"
      ],
      "text/plain": [
       "       tax_id   count\n",
       "34960    4565  104039\n",
       "32220    3708   90975\n",
       "43536   90675   82686\n",
       "33610  412133   72290\n",
       "44095   94328   68154"
      ]
     },
     "execution_count": 10,
     "metadata": {},
     "output_type": "execute_result"
    }
   ],
   "source": [
    "groups.head()"
   ]
  },
  {
   "cell_type": "code",
   "execution_count": 11,
   "id": "38f1638f-45c2-4ea4-8e19-12a14aa29495",
   "metadata": {},
   "outputs": [],
   "source": [
    "end = time.time()"
   ]
  },
  {
   "cell_type": "code",
   "execution_count": 12,
   "id": "384e20a4-8b5e-4ef3-9b26-093acb8ce7c0",
   "metadata": {},
   "outputs": [],
   "source": [
    "df = pd.DataFrame([{\"cores\": 1, \"time\": end-start, \"size\": file_size, \"format\": file_format, \"dataframe\": \"Pandas\"}])\n",
    "output_file = f\"2-PandasDataframe_{file_size}_{file_format}_1.csv\"\n",
    "df.to_csv(os.path.join(RESULTS_DIR, output_file), index=False)"
   ]
  },
  {
   "cell_type": "code",
   "execution_count": 13,
   "id": "f07ba539-a1df-4215-b1e7-f94037554fe8",
   "metadata": {},
   "outputs": [
    {
     "name": "stdout",
     "output_type": "stream",
     "text": [
      "Pandas: 67.9 sec.\n"
     ]
    }
   ],
   "source": [
    "print(f\"Pandas: {end - start:.1f} sec.\")"
   ]
  }
 ],
 "metadata": {
  "kernelspec": {
   "display_name": "Python 3 (ipykernel)",
   "language": "python",
   "name": "python3"
  },
  "language_info": {
   "codemirror_mode": {
    "name": "ipython",
    "version": 3
   },
   "file_extension": ".py",
   "mimetype": "text/x-python",
   "name": "python",
   "nbconvert_exporter": "python",
   "pygments_lexer": "ipython3",
   "version": "3.10.14"
  }
 },
 "nbformat": 4,
 "nbformat_minor": 5
}
