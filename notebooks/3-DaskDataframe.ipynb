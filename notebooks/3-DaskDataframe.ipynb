{
 "cells": [
  {
   "cell_type": "markdown",
   "id": "9b8635ef-0c6b-498e-8e7f-0712edc7a23e",
   "metadata": {},
   "source": [
    "# 3-DaskDataframe\n",
    "\n",
    "This notebook demonstrates how to read and process a tabular datafile with the [Dask](https://docs.dask.org/en/stable/dataframe.html) Dataframe library. A Dask DataFrame is a large parallel DataFrame composed of many smaller Pandas DataFrames. Dask can handle datasets that are large than the available memory (out-of-core) and process them in parallel on multiple cores.\n",
    "\n",
    "Author: Peter W. Rose (pwrose@ucsd.edu)"
   ]
  },
  {
   "cell_type": "code",
   "execution_count": 1,
   "id": "adde6518-742b-42a6-923d-9f2a1ce7ef36",
   "metadata": {},
   "outputs": [],
   "source": [
    "import os\n",
    "import pandas as pd\n",
    "from dask.distributed import Client\n",
    "import dask.dataframe as dd\n",
    "import time"
   ]
  },
  {
   "cell_type": "markdown",
   "id": "45a7aabe-b8f6-49b9-a1ba-3cffb08eb580",
   "metadata": {},
   "source": [
    "If LOCAL_SCRATCH_DIR environment variable is not set, this notebook accesses the ../data directory for temporary files."
   ]
  },
  {
   "cell_type": "code",
   "execution_count": 2,
   "id": "79be43cc-8a15-4fd2-a012-4213cd4635da",
   "metadata": {},
   "outputs": [],
   "source": [
    "DATA_DIR = os.getenv(\"LOCAL_SCRATCH_DIR\", default=\"../data\")\n",
    "filename = os.path.join(DATA_DIR, \"gene_info.tsv\")\n",
    "file_size = f\"{os.path.getsize(filename)/1E9:.1f}\"\n",
    "RESULTS_DIR = \"results\"\n",
    "os.makedirs(RESULTS_DIR, exist_ok=True)"
   ]
  },
  {
   "cell_type": "markdown",
   "id": "4b7c578c-178a-4d87-a290-caf28fd13ad7",
   "metadata": {},
   "source": [
    "### Setup Benchmark"
   ]
  },
  {
   "cell_type": "markdown",
   "id": "dd4d354c-13fa-4349-bfc8-de2615726fcc",
   "metadata": {},
   "source": [
    "The ```n_cores``` and ```file_format``` parameter are used for benchmarking ([see](7-ParallelEfficiency.ipynb)). \n",
    "The cell below has been [parameterized](https://papermill.readthedocs.io/en/latest/usage-parameterize.html#jupyterlab-3-0) as input parameters for [papermill](https://papermill.readthedocs.io/en/latest/index.html)."
   ]
  },
  {
   "cell_type": "code",
   "execution_count": 3,
   "id": "5bfb4a12-cf82-4991-bb65-b141d1785a5e",
   "metadata": {
    "editable": true,
    "slideshow": {
     "slide_type": ""
    },
    "tags": [
     "parameters"
    ]
   },
   "outputs": [],
   "source": [
    "n_cores = 8\n",
    "file_format = \"csv\""
   ]
  },
  {
   "cell_type": "code",
   "execution_count": 4,
   "id": "afb1bbc8-6c06-46bd-8d64-0df5c83d941f",
   "metadata": {},
   "outputs": [],
   "source": [
    "start = time.time()"
   ]
  },
  {
   "cell_type": "markdown",
   "id": "d98160a6-153f-4cab-8155-b33ad24b4665",
   "metadata": {},
   "source": [
    "### Read Data"
   ]
  },
  {
   "cell_type": "code",
   "execution_count": 5,
   "id": "f714be38-908d-47f2-af3a-b343c6c48e48",
   "metadata": {},
   "outputs": [],
   "source": [
    "if n_cores > 0:\n",
    "    # use n_cores for benchmarking\n",
    "    client = Client(n_workers=n_cores, threads_per_worker=1)\n",
    "else:\n",
    "    # use all available cores\n",
    "    client = Client()"
   ]
  },
  {
   "cell_type": "code",
   "execution_count": 6,
   "id": "e1575f4b-5a6b-4fd4-8de1-837d3599015e",
   "metadata": {},
   "outputs": [
    {
     "name": "stdout",
     "output_type": "stream",
     "text": [
      "Filename: /scratch/pwrose/job_22855019/gene_info.tsv\n"
     ]
    }
   ],
   "source": [
    "# read only specified columns and rows\n",
    "column_names = [\"GeneID\", \"Symbol\", \"Synonyms\", \"description\", \"type_of_gene\", \"#tax_id\", \"chromosome\"]\n",
    "filters=[[(\"type_of_gene\", \"==\", \"protein-coding\")]]\n",
    "\n",
    "if file_format == \"csv\":\n",
    "    filename = os.path.join(DATA_DIR, \"gene_info.tsv\")\n",
    "    genes = dd.read_csv(filename, usecols=column_names, dtype=str, sep=\"\\t\")\n",
    "    genes = genes.query(\"type_of_gene == 'protein-coding'\")\n",
    "elif file_format == \"parquet\":\n",
    "    filename = os.path.join(DATA_DIR, \"gene_info.parquet\")\n",
    "    genes = dd.read_parquet(filename, columns=column_names, filters=filters, engine=\"pyarrow\")    \n",
    "else:\n",
    "    print(\"invalid file format\")\n",
    "    \n",
    "print(\"Filename:\", filename)\n",
    "\n",
    "genes = genes.rename(columns={\"#tax_id\": \"tax_id\"})"
   ]
  },
  {
   "cell_type": "markdown",
   "id": "22e78d68-ecec-4fa7-8eb7-d4f029d8bfea",
   "metadata": {},
   "source": [
    "### Process Data"
   ]
  },
  {
   "cell_type": "code",
   "execution_count": 7,
   "id": "3954214f-afba-43a3-bb3e-8add4d8620c8",
   "metadata": {},
   "outputs": [],
   "source": [
    "groups = genes.groupby(\"tax_id\").size().reset_index()\n",
    "groups.columns = [\"tax_id\", \"count\"]\n",
    "groups = groups.sort_values(\"count\", ascending=False)"
   ]
  },
  {
   "cell_type": "markdown",
   "id": "1e327414-1441-4349-a012-582d7e7d624e",
   "metadata": {},
   "source": [
    "Convert Dask to Pandas dataframe (this triggers the computation)"
   ]
  },
  {
   "cell_type": "code",
   "execution_count": 8,
   "id": "42715ba8-583b-42ae-9f5f-e78166290499",
   "metadata": {},
   "outputs": [],
   "source": [
    "# groups = groups.compute(scheduler=\"processes\") # use if Dask client is not instantiated\n",
    "groups = groups.compute()"
   ]
  },
  {
   "cell_type": "code",
   "execution_count": 9,
   "id": "468a9242-9e6c-40bb-8382-00bf4fb21d5c",
   "metadata": {},
   "outputs": [],
   "source": [
    "# terminate the Dask processes\n",
    "client.close()"
   ]
  },
  {
   "cell_type": "markdown",
   "id": "1f788de8-19ac-4d1d-971f-ea048b464f98",
   "metadata": {},
   "source": [
    "### Display Results"
   ]
  },
  {
   "cell_type": "markdown",
   "id": "5ff1558c-e161-4e24-aaa6-93b4a990812f",
   "metadata": {},
   "source": [
    "#### Number of human protein-coding genes (tax_id = 9606)"
   ]
  },
  {
   "cell_type": "code",
   "execution_count": 10,
   "id": "d5745f4a-242b-4b74-b423-9a7de1de9e78",
   "metadata": {},
   "outputs": [
    {
     "data": {
      "text/html": [
       "<div>\n",
       "<style scoped>\n",
       "    .dataframe tbody tr th:only-of-type {\n",
       "        vertical-align: middle;\n",
       "    }\n",
       "\n",
       "    .dataframe tbody tr th {\n",
       "        vertical-align: top;\n",
       "    }\n",
       "\n",
       "    .dataframe thead th {\n",
       "        text-align: right;\n",
       "    }\n",
       "</style>\n",
       "<table border=\"1\" class=\"dataframe\">\n",
       "  <thead>\n",
       "    <tr style=\"text-align: right;\">\n",
       "      <th></th>\n",
       "      <th>tax_id</th>\n",
       "      <th>count</th>\n",
       "    </tr>\n",
       "  </thead>\n",
       "  <tbody>\n",
       "    <tr>\n",
       "      <th>1542</th>\n",
       "      <td>9606</td>\n",
       "      <td>20648</td>\n",
       "    </tr>\n",
       "  </tbody>\n",
       "</table>\n",
       "</div>"
      ],
      "text/plain": [
       "     tax_id  count\n",
       "1542   9606  20648"
      ]
     },
     "execution_count": 10,
     "metadata": {},
     "output_type": "execute_result"
    }
   ],
   "source": [
    "groups.query(\"tax_id == '9606'\")"
   ]
  },
  {
   "cell_type": "markdown",
   "id": "3842252d-2d7b-4065-bb38-9eaa79e7b112",
   "metadata": {},
   "source": [
    "#### Top 5 organisms with the most protein-coding genes"
   ]
  },
  {
   "cell_type": "code",
   "execution_count": 11,
   "id": "afd038df-7f1d-4ac9-8cb3-459fea72ed27",
   "metadata": {},
   "outputs": [
    {
     "data": {
      "text/html": [
       "<div>\n",
       "<style scoped>\n",
       "    .dataframe tbody tr th:only-of-type {\n",
       "        vertical-align: middle;\n",
       "    }\n",
       "\n",
       "    .dataframe tbody tr th {\n",
       "        vertical-align: top;\n",
       "    }\n",
       "\n",
       "    .dataframe thead th {\n",
       "        text-align: right;\n",
       "    }\n",
       "</style>\n",
       "<table border=\"1\" class=\"dataframe\">\n",
       "  <thead>\n",
       "    <tr style=\"text-align: right;\">\n",
       "      <th></th>\n",
       "      <th>tax_id</th>\n",
       "      <th>count</th>\n",
       "    </tr>\n",
       "  </thead>\n",
       "  <tbody>\n",
       "    <tr>\n",
       "      <th>727</th>\n",
       "      <td>4565</td>\n",
       "      <td>104037</td>\n",
       "    </tr>\n",
       "    <tr>\n",
       "      <th>512</th>\n",
       "      <td>3708</td>\n",
       "      <td>90975</td>\n",
       "    </tr>\n",
       "    <tr>\n",
       "      <th>7544</th>\n",
       "      <td>90675</td>\n",
       "      <td>82686</td>\n",
       "    </tr>\n",
       "    <tr>\n",
       "      <th>18134</th>\n",
       "      <td>412133</td>\n",
       "      <td>72290</td>\n",
       "    </tr>\n",
       "    <tr>\n",
       "      <th>7720</th>\n",
       "      <td>94328</td>\n",
       "      <td>68154</td>\n",
       "    </tr>\n",
       "  </tbody>\n",
       "</table>\n",
       "</div>"
      ],
      "text/plain": [
       "       tax_id   count\n",
       "727      4565  104037\n",
       "512      3708   90975\n",
       "7544    90675   82686\n",
       "18134  412133   72290\n",
       "7720    94328   68154"
      ]
     },
     "execution_count": 11,
     "metadata": {},
     "output_type": "execute_result"
    }
   ],
   "source": [
    "groups.head()"
   ]
  },
  {
   "cell_type": "code",
   "execution_count": 12,
   "id": "38f1638f-45c2-4ea4-8e19-12a14aa29495",
   "metadata": {},
   "outputs": [],
   "source": [
    "end = time.time()"
   ]
  },
  {
   "cell_type": "code",
   "execution_count": 13,
   "id": "a05ce84a-ee94-48bc-aada-9242d5c53ba0",
   "metadata": {},
   "outputs": [],
   "source": [
    "if n_cores > 0:\n",
    "    df = pd.DataFrame([{\"cores\": n_cores, \"time\": end-start, \"size\": file_size, \"format\": file_format, \"dataframe\": \"Dask\"}])\n",
    "    output_file = f\"3-DaskDataframe_{file_size}_{file_format}_{n_cores}.csv\"\n",
    "    df.to_csv(os.path.join(RESULTS_DIR, output_file), index=False)"
   ]
  },
  {
   "cell_type": "code",
   "execution_count": 14,
   "id": "f07ba539-a1df-4215-b1e7-f94037554fe8",
   "metadata": {},
   "outputs": [
    {
     "name": "stdout",
     "output_type": "stream",
     "text": [
      "Dask: 18.6 sec.\n"
     ]
    }
   ],
   "source": [
    "print(f\"Dask: {end - start:.1f} sec.\")"
   ]
  }
 ],
 "metadata": {
  "kernelspec": {
   "display_name": "Python 3 (ipykernel)",
   "language": "python",
   "name": "python3"
  },
  "language_info": {
   "codemirror_mode": {
    "name": "ipython",
    "version": 3
   },
   "file_extension": ".py",
   "mimetype": "text/x-python",
   "name": "python",
   "nbconvert_exporter": "python",
   "pygments_lexer": "ipython3",
   "version": "3.10.14"
  }
 },
 "nbformat": 4,
 "nbformat_minor": 5
}
