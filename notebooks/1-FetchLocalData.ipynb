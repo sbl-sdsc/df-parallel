{
 "cells": [
  {
   "cell_type": "markdown",
   "id": "e09c9dd7-d99c-4a12-a46a-9b84c85b5fb4",
   "metadata": {},
   "source": [
    "# 1-FetchLocalData\n",
    "This noteboook copies and unzips a local copy of dataset for benchmarking.\n",
    "\n",
    "Dataset description:\n",
    "A list of gene names and annotations for species from [National Center for Biotechnology Information](https://www.ncbi.nlm.nih.gov/) in tsv format.\n",
    "\n",
    "Size: 6.5 GB unzipped (as of June 2023)\n",
    "\n",
    "Source: https://ftp.ncbi.nlm.nih.gov/gene/DATA/gene_info.gz\n",
    "\n",
    "Description: https://ftp.ncbi.nlm.nih.gov/gene/DATA/README\n",
    "\n",
    "To ensure platform independence, this notebook uses Python libraries to unzip a compressed file.\n",
    "\n",
    "Author: Peter W. Rose (pwrose@ucsd.edu)"
   ]
  },
  {
   "cell_type": "code",
   "execution_count": 1,
   "id": "adde6518-742b-42a6-923d-9f2a1ce7ef36",
   "metadata": {},
   "outputs": [],
   "source": [
    "import os\n",
    "import shutil\n",
    "import gzip\n",
    "from pathlib import path"
   ]
  },
  {
   "cell_type": "markdown",
   "id": "9b028077-3eaf-4178-b671-787b87cd50b0",
   "metadata": {},
   "source": [
    "If LOCAL_SCRATCH_DIR environment variable is not set, this notebook stores data files in the ../data directory."
   ]
  },
  {
   "cell_type": "code",
   "execution_count": 2,
   "id": "66512f04-c189-46ea-ba9d-b54a727047ae",
   "metadata": {},
   "outputs": [],
   "source": [
    "DATA_DIR = os.getenv(\"LOCAL_SCRATCH_DIR\", default=\"../data\")\n",
    "os.makedirs(DATA_DIR, exist_ok=True)"
   ]
  },
  {
   "cell_type": "markdown",
   "id": "e06804f7-3430-4787-a3e5-8e11d8d6a194",
   "metadata": {},
   "source": [
    "## Copy csv dataset"
   ]
  },
  {
   "cell_type": "code",
   "execution_count": 3,
   "id": "e26aeb02-f9b5-460d-b358-a4a5f8544da3",
   "metadata": {},
   "outputs": [],
   "source": [
    "filename_in = os.path.join(Path.home(), \"data/gene_info.gz\")\n",
    "filename_out = os.path.join(DATA_DIR, \"gene_info.tsv\")"
   ]
  },
  {
   "cell_type": "code",
   "execution_count": 4,
   "id": "23528aee-f2b5-4639-a7e1-d8f3413b6831",
   "metadata": {},
   "outputs": [],
   "source": [
    "def unzip(filename_in, filename_out):\n",
    "    with gzip.open(filename_in, \"rb\") as f_in:\n",
    "        with open(filename_out, \"wb\") as f_out:\n",
    "            shutil.copyfileobj(f_in, f_out)"
   ]
  },
  {
   "cell_type": "code",
   "execution_count": 5,
   "id": "18cf6f32-3e12-4386-9692-f411ed6474d9",
   "metadata": {},
   "outputs": [
    {
     "name": "stdout",
     "output_type": "stream",
     "text": [
      "unzipping /cm/shared/examples/sdsc/ciml/2023/gene_info.gz to /scratch/train139/job_23601009/gene_info.tsv\n"
     ]
    }
   ],
   "source": [
    "print(f\"unzipping {filename_in} to {filename_out}\")\n",
    "unzip(filename_in, filename_out)"
   ]
  },
  {
   "cell_type": "code",
   "execution_count": 6,
   "id": "d3023b17-750d-43f2-81a0-fedb4f1e8150",
   "metadata": {},
   "outputs": [
    {
     "name": "stdout",
     "output_type": "stream",
     "text": [
      "File Size: 6.5 GB\n"
     ]
    }
   ],
   "source": [
    "file_size = os.path.getsize(filename_out)\n",
    "print(f\"File Size: {file_size/1E9:.1f} GB\")"
   ]
  },
  {
   "cell_type": "markdown",
   "id": "b1188080-c694-481f-ad94-59454bfb9040",
   "metadata": {},
   "source": [
    "## Copy parquet dataset\n",
    "Note, a parquet \"file\" is usually a directory of files."
   ]
  },
  {
   "cell_type": "code",
   "execution_count": 7,
   "id": "d680eb10-e0c5-4d15-9db2-5ed300ed2a69",
   "metadata": {},
   "outputs": [
    {
     "data": {
      "text/plain": [
       "'/scratch/train139/job_23601009/gene_info.parquet'"
      ]
     },
     "execution_count": 7,
     "metadata": {},
     "output_type": "execute_result"
    }
   ],
   "source": [
    "filename_in = os.path.join(Path.home(), \"data/gene_info.parquet\")\n",
    "filename_out = os.path.join(DATA_DIR, \"gene_info.parquet\")\n",
    "shutil.copytree(filename_in, filename_out)"
   ]
  },
  {
   "cell_type": "code",
   "execution_count": 8,
   "id": "4e33165e-25f2-434a-8c06-2606627eee61",
   "metadata": {},
   "outputs": [],
   "source": [
    "# A parquet \"file\" is a directory of files. Each file corresponds to a partition in Dask.\n",
    "file_size = 0\n",
    "for path, dirs, files in os.walk(filename_out):\n",
    "    for f in files:\n",
    "        fp = os.path.join(path, f)\n",
    "        file_size += os.path.getsize(fp)"
   ]
  },
  {
   "cell_type": "code",
   "execution_count": 9,
   "id": "a58d45e0-1e20-4efe-a107-0e3f894f5c5d",
   "metadata": {},
   "outputs": [
    {
     "name": "stdout",
     "output_type": "stream",
     "text": [
      "Filename: /scratch/train139/job_23601009/gene_info.parquet\n",
      "File Size: 1.7 GB\n"
     ]
    }
   ],
   "source": [
    "print(\"Filename:\", filename_out)\n",
    "print(f\"File Size: {file_size/1E9:.1f} GB\")"
   ]
  }
 ],
 "metadata": {
  "kernelspec": {
   "display_name": "Python 3 (ipykernel)",
   "language": "python",
   "name": "python3"
  },
  "language_info": {
   "codemirror_mode": {
    "name": "ipython",
    "version": 3
   },
   "file_extension": ".py",
   "mimetype": "text/x-python",
   "name": "python",
   "nbconvert_exporter": "python",
   "pygments_lexer": "ipython3",
   "version": "3.10.14"
  }
 },
 "nbformat": 4,
 "nbformat_minor": 5
}
