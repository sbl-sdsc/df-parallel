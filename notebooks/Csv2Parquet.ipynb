{
 "cells": [
  {
   "cell_type": "markdown",
   "id": "79ff339e-b619-4d66-83c5-77a487e3e673",
   "metadata": {
    "editable": true,
    "slideshow": {
     "slide_type": ""
    },
    "tags": [
     "parameters"
    ]
   },
   "source": [
    "# 1a-Csv2Parquet\n",
    "This notebook converts a csv or tsv file to a parquet file.  [Apache Parquet](https://parquet.apache.org/) is an open source, column-oriented data file format designed for efficient data storage and retrieval. It provides efficient data compression and encoding schemes with enhanced performance to handle complex data in bulk.\n",
    "\n",
    "Author: Peter W. Rose (pwrose@ucsd.edu)"
   ]
  },
  {
   "cell_type": "code",
   "execution_count": 1,
   "id": "adde6518-742b-42a6-923d-9f2a1ce7ef36",
   "metadata": {},
   "outputs": [],
   "source": [
    "import os\n",
    "import dask.dataframe as dd\n",
    "import time"
   ]
  },
  {
   "cell_type": "markdown",
   "id": "45a7aabe-b8f6-49b9-a1ba-3cffb08eb580",
   "metadata": {},
   "source": [
    "If LOCAL_SCRATCH_DIR environment variable is not set, this notebook stores data files in the ../data directory."
   ]
  },
  {
   "cell_type": "code",
   "execution_count": 2,
   "id": "79be43cc-8a15-4fd2-a012-4213cd4635da",
   "metadata": {},
   "outputs": [
    {
     "name": "stdout",
     "output_type": "stream",
     "text": [
      "Filename: /scratch/pwrose/job_22853611/gene_info.tsv\n",
      "File Size: 6.4 GB\n"
     ]
    }
   ],
   "source": [
    "DATA_DIR = os.getenv(\"LOCAL_SCRATCH_DIR\", default=\"../data\")\n",
    "filename = os.path.join(DATA_DIR, \"gene_info.tsv\")\n",
    "print(\"Filename:\", filename)\n",
    "file_size = os.path.getsize(filename)\n",
    "print(f\"File Size: {file_size/1E9:.1f} GB\")\n",
    "output_filename = os.path.join(DATA_DIR, \"gene_info.parquet\")"
   ]
  },
  {
   "cell_type": "code",
   "execution_count": 3,
   "id": "c0cf2752-5e37-4e07-a0ea-a54109c6b215",
   "metadata": {},
   "outputs": [],
   "source": [
    "start = time.time()"
   ]
  },
  {
   "cell_type": "code",
   "execution_count": 4,
   "id": "e1575f4b-5a6b-4fd4-8de1-837d3599015e",
   "metadata": {},
   "outputs": [],
   "source": [
    "genes = dd.read_csv(filename, dtype=str, sep=\"\\t\")"
   ]
  },
  {
   "cell_type": "code",
   "execution_count": 5,
   "id": "6dbcb79e-59d8-4ebc-876d-5bdcae327359",
   "metadata": {},
   "outputs": [],
   "source": [
    "genes.to_parquet(output_filename, partition_on=[\"type_of_gene\"], write_index=False, write_metadata_file=True, engine=\"pyarrow\")"
   ]
  },
  {
   "cell_type": "code",
   "execution_count": 6,
   "id": "38f1638f-45c2-4ea4-8e19-12a14aa29495",
   "metadata": {},
   "outputs": [],
   "source": [
    "end = time.time()"
   ]
  },
  {
   "cell_type": "code",
   "execution_count": 7,
   "id": "4b10c8a5-f602-46a4-8d15-8b8343e2d15f",
   "metadata": {},
   "outputs": [],
   "source": [
    "# A parquet \"file\" is a directory of files. Each file corresponds to a partition in Dask.\n",
    "file_size = 0\n",
    "for path, dirs, files in os.walk(output_filename):\n",
    "    for f in files:\n",
    "        fp = os.path.join(path, f)\n",
    "        file_size += os.path.getsize(fp)"
   ]
  },
  {
   "cell_type": "code",
   "execution_count": 8,
   "id": "84413231-bb56-41f2-a067-fa289331c5de",
   "metadata": {},
   "outputs": [
    {
     "name": "stdout",
     "output_type": "stream",
     "text": [
      "Filename: /scratch/pwrose/job_22853611/gene_info.parquet\n",
      "File Size: 1.7 GB\n"
     ]
    }
   ],
   "source": [
    "print(\"Filename:\", output_filename)\n",
    "print(f\"File Size: {file_size/1E9:.1f} GB\")"
   ]
  },
  {
   "cell_type": "code",
   "execution_count": 9,
   "id": "f07ba539-a1df-4215-b1e7-f94037554fe8",
   "metadata": {},
   "outputs": [
    {
     "name": "stdout",
     "output_type": "stream",
     "text": [
      "Csv2Parquet: 161.5 sec.\n"
     ]
    }
   ],
   "source": [
    "print(f\"Csv2Parquet: {end - start:.1f} sec.\")"
   ]
  }
 ],
 "metadata": {
  "kernelspec": {
   "display_name": "Python 3 (ipykernel)",
   "language": "python",
   "name": "python3"
  },
  "language_info": {
   "codemirror_mode": {
    "name": "ipython",
    "version": 3
   },
   "file_extension": ".py",
   "mimetype": "text/x-python",
   "name": "python",
   "nbconvert_exporter": "python",
   "pygments_lexer": "ipython3",
   "version": "3.10.11"
  }
 },
 "nbformat": 4,
 "nbformat_minor": 5
}
